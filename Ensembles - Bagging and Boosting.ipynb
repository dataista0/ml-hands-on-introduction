{
 "cells": [
  {
   "cell_type": "markdown",
   "metadata": {},
   "source": [
    "# Logistic Regression and Naive Bayes over Count Vectorizer"
   ]
  },
  {
   "cell_type": "markdown",
   "metadata": {},
   "source": [
    "# Best scores obtained with single models:\n",
    "\n",
    "\n",
    "# LB\n",
    "```python\n",
    "n_words = 5000\n",
    "top_n_words = [w for w, c in V.most_common(n_words)]\n",
    "top_n_words\n",
    "vect_top_n = TfidfVectorizer(vocabulary=top_n_words)\n",
    "m = LogisticRegression()\n",
    "m, df_feature_train = count_vect_pipeline_v2(df_train, df_val, df_test, vect_top_n, m, f'logistic_over_{n_words}_top_words_tfidf')\n",
    "\n",
    "```\n",
    "\n",
    "```\n",
    "Train accuracy: 0.870\n",
    "Val accuracy  : 0.795 (CV)\n",
    "Leaderboard   : 0.78976 (LB)\n",
    "```\n",
    "\n",
    "# CV\n",
    "\n",
    "```python\n",
    "n_words = 5000\n",
    "top_n_words = [w for w, c in V.most_common(n_words)]\n",
    "top_n_words\n",
    "vect_top_n = CountVectorizer(vocabulary=top_n_words)\n",
    "m = LogisticRegression()\n",
    "m, df_feature_train = count_vect_pipeline_v2(df_train, df_val, df_test, vect_top_n, m, f'logistic_over_{n_words}_top_words')\n",
    "\n",
    "```\n",
    "\n",
    "```\n",
    "Train accuracy: 0.921\n",
    "Val accuracy  : 0.776\n",
    "Leaderboard   : 0.79190 (LB)\n",
    "```\n"
   ]
  },
  {
   "cell_type": "code",
   "execution_count": 1,
   "metadata": {},
   "outputs": [],
   "source": [
    "import numpy as np\n",
    "import pandas as pd\n",
    "from nltk.corpus import stopwords\n",
    "from sklearn.metrics import accuracy_score\n",
    "from sklearn.model_selection import train_test_split\n",
    "from sklearn.feature_extraction.text import CountVectorizer\n",
    "from sklearn.feature_extraction.text import TfidfVectorizer\n",
    "from collections import Counter\n",
    "\n",
    "\n",
    "def flatten(t):\n",
    "    return [item for sublist in t for item in sublist]\n",
    "\n",
    "def load_dfs(test_size=0.1, shuffle=False, verbose=True):\n",
    "    df = pd.read_csv(\"data/train.csv\")\n",
    "    df = df.drop(['keyword', 'location'], axis=1)\n",
    "    \n",
    "    df_test = pd.read_csv(\"data/test.csv\")\n",
    "    df_test = df_test.drop(['keyword', 'location'], axis=1)\n",
    "    \n",
    "    df_sub = pd.read_csv(\"data/sample_submission.csv\")\n",
    "    \n",
    "    df_train, df_val = train_test_split(df, test_size=test_size, shuffle=shuffle)\n",
    "\n",
    "    if verbose:\n",
    "        print(f\"train shape: {df_train.shape}\")\n",
    "        print(f\"val shape  : {df_val.shape}\")\n",
    "        print(f\"test shape : {df_test.shape}\")\n",
    "    return df_train, df_val, df_test, df_sub\n",
    "\n",
    "\n",
    "def get_vocab(df, drop_stopwords=True, keep_only_alpha=True):\n",
    "    l = flatten(df['text'].str.lower().str.split().tolist())\n",
    "    if drop_stopwords:\n",
    "        st = stopwords.words('english')\n",
    "        l = [w for w in l if w not in st and (not keep_only_alpha or w.isalpha())]\n",
    "    return Counter(l)\n"
   ]
  },
  {
   "cell_type": "code",
   "execution_count": 2,
   "metadata": {},
   "outputs": [
    {
     "name": "stdout",
     "output_type": "stream",
     "text": [
      "train shape: (6851, 3)\n",
      "val shape  : (762, 3)\n",
      "test shape : (3263, 2)\n"
     ]
    }
   ],
   "source": [
    "df_train, df_val, df_test, df_sub = load_dfs()"
   ]
  },
  {
   "cell_type": "code",
   "execution_count": 24,
   "metadata": {},
   "outputs": [],
   "source": [
    "#!pip install xgboost\n",
    "#!pip install lightgbm\n",
    "#!pip install catboost"
   ]
  },
  {
   "cell_type": "code",
   "execution_count": 23,
   "metadata": {},
   "outputs": [],
   "source": [
    "from sklearn.tree import DecisionTreeClassifier\n",
    "from sklearn.ensemble import RandomForestClassifier\n",
    "from xgboost import XGBClassifier\n",
    "from lightgbm import LGBMClassifier\n",
    "from catboost import CatBoostClassifier\n",
    "from sklearn.pipeline import Pipeline\n",
    "import warnings; warnings.simplefilter('ignore')"
   ]
  },
  {
   "cell_type": "code",
   "execution_count": 20,
   "metadata": {},
   "outputs": [],
   "source": [
    "def run(model, df_train, df_val):\n",
    "    model.fit(df_train['text'], df_train['target'])\n",
    "    y_pred_train = model.predict(df_train['text'])\n",
    "    y_pred_val = model.predict(df_val['text'])\n",
    "    \n",
    "    train_acc = accuracy_score(df_train['target'], y_pred_train)\n",
    "    val_acc = accuracy_score(df_val['target'], y_pred_val)\n",
    "    return model, train_acc, val_acc\n",
    "\n",
    "\n",
    "def run_models(models, df_train, df_val):\n",
    "    res = []\n",
    "    trained_models = []\n",
    "    for name, model in models:\n",
    "        model, train_acc, val_acc = run(model, df_train, df_val)\n",
    "        res.append((name, train_acc, val_acc))\n",
    "        trained_models.append((name, model))\n",
    "\n",
    "    df_res = pd.DataFrame(res, columns=['model', 'train acc', 'val acc']).sort_values(\"val acc\", ascending=False)\n",
    "    display(df_res)\n",
    "    return df_res, trained_models"
   ]
  },
  {
   "cell_type": "code",
   "execution_count": 22,
   "metadata": {},
   "outputs": [
    {
     "name": "stderr",
     "output_type": "stream",
     "text": [
      "/home/dataista/anaconda3/lib/python3.7/site-packages/xgboost/sklearn.py:1146: UserWarning: The use of label encoder in XGBClassifier is deprecated and will be removed in a future release. To remove this warning, do the following: 1) Pass option use_label_encoder=False when constructing XGBClassifier object; and 2) Encode your labels (y) as integers starting with 0, i.e. 0, 1, 2, ..., [num_class - 1].\n",
      "  warnings.warn(label_encoder_deprecation_msg, UserWarning)\n"
     ]
    },
    {
     "data": {
      "text/html": [
       "<div>\n",
       "<style scoped>\n",
       "    .dataframe tbody tr th:only-of-type {\n",
       "        vertical-align: middle;\n",
       "    }\n",
       "\n",
       "    .dataframe tbody tr th {\n",
       "        vertical-align: top;\n",
       "    }\n",
       "\n",
       "    .dataframe thead th {\n",
       "        text-align: right;\n",
       "    }\n",
       "</style>\n",
       "<table border=\"1\" class=\"dataframe\">\n",
       "  <thead>\n",
       "    <tr style=\"text-align: right;\">\n",
       "      <th></th>\n",
       "      <th>model</th>\n",
       "      <th>train acc</th>\n",
       "      <th>val acc</th>\n",
       "    </tr>\n",
       "  </thead>\n",
       "  <tbody>\n",
       "    <tr>\n",
       "      <th>4</th>\n",
       "      <td>rf</td>\n",
       "      <td>0.983506</td>\n",
       "      <td>0.769029</td>\n",
       "    </tr>\n",
       "    <tr>\n",
       "      <th>2</th>\n",
       "      <td>xgb</td>\n",
       "      <td>0.978251</td>\n",
       "      <td>0.758530</td>\n",
       "    </tr>\n",
       "    <tr>\n",
       "      <th>3</th>\n",
       "      <td>catb</td>\n",
       "      <td>0.860166</td>\n",
       "      <td>0.758530</td>\n",
       "    </tr>\n",
       "    <tr>\n",
       "      <th>1</th>\n",
       "      <td>lgb</td>\n",
       "      <td>0.981025</td>\n",
       "      <td>0.745407</td>\n",
       "    </tr>\n",
       "    <tr>\n",
       "      <th>0</th>\n",
       "      <td>dt</td>\n",
       "      <td>0.983068</td>\n",
       "      <td>0.678478</td>\n",
       "    </tr>\n",
       "  </tbody>\n",
       "</table>\n",
       "</div>"
      ],
      "text/plain": [
       "  model  train acc   val acc\n",
       "4    rf   0.983506  0.769029\n",
       "2   xgb   0.978251  0.758530\n",
       "3  catb   0.860166  0.758530\n",
       "1   lgb   0.981025  0.745407\n",
       "0    dt   0.983068  0.678478"
      ]
     },
     "metadata": {},
     "output_type": "display_data"
    }
   ],
   "source": [
    "tree_and_ensemble_models = [\n",
    "    ('dt', Pipeline([('vect', TfidfVectorizer(max_features=2000)), ('model', DecisionTreeClassifier())])),\n",
    "    ('lgb', Pipeline([('vect', TfidfVectorizer(max_features=3000)), ('model', LGBMClassifier(n_estimators=1000))])),\n",
    "    ('xgb', Pipeline([('vect', TfidfVectorizer(max_features=3000)), ('model', XGBClassifier(n_estimators=1000))])),\n",
    "    ('catb', Pipeline([('vect', TfidfVectorizer(max_features=3000)), ('model', CatBoostClassifier(n_estimators=1000, verbose=0))])),\n",
    "    ('rf', Pipeline([('vect', TfidfVectorizer(max_features=3000)), ('model', RandomForestClassifier(n_estimators=1000))])),\n",
    "]\n",
    "\n",
    "df_res, trained_models = run_models(tree_and_ensemble_models, df_train, df_val)"
   ]
  },
  {
   "cell_type": "code",
   "execution_count": 16,
   "metadata": {},
   "outputs": [
    {
     "data": {
      "text/plain": [
       "<matplotlib.axes._subplots.AxesSubplot at 0x7f1f42e8d390>"
      ]
     },
     "execution_count": 16,
     "metadata": {},
     "output_type": "execute_result"
    },
    {
     "data": {
      "image/png": "[encoded data removed]",
      "text/plain": [
       "<Figure size 1440x360 with 1 Axes>"
      ]
     },
     "metadata": {
      "needs_background": "light"
     },
     "output_type": "display_data"
    }
   ],
   "source": [
    "df_res.set_index('model')['val acc'].plot.bar(figsize=(20, 5), \n",
    "                                              alpha=0.5, \n",
    "                                              color=['r', 'g', 'b', 'c', 'b'],\n",
    "                                              rot=0)"
   ]
  },
  {
   "cell_type": "code",
   "execution_count": null,
   "metadata": {},
   "outputs": [],
   "source": []
  }
 ],
 "metadata": {
  "kernelspec": {
   "display_name": "Python 3",
   "language": "python",
   "name": "python3"
  },
  "language_info": {
   "codemirror_mode": {
    "name": "ipython",
    "version": 3
   },
   "file_extension": ".py",
   "mimetype": "text/x-python",
   "name": "python",
   "nbconvert_exporter": "python",
   "pygments_lexer": "ipython3",
   "version": "3.7.6"
  }
 },
 "nbformat": 4,
 "nbformat_minor": 4
}
