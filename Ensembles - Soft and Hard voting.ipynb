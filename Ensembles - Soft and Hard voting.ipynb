{
 "cells": [
  {
   "cell_type": "markdown",
   "metadata": {},
   "source": [
    "# Ensembles - Soft and Hard voting"
   ]
  },
  {
   "cell_type": "markdown",
   "metadata": {},
   "source": [
    "\n",
    "## Best scores obtained with single models:\n",
    "\n",
    "### LB\n",
    "```python\n",
    "n_words = 5000\n",
    "top_n_words = [w for w, c in V.most_common(n_words)]\n",
    "vect_top_n = TfidfVectorizer(vocabulary=top_n_words)\n",
    "m = LogisticRegression()\n",
    "m, df_feature_train = count_vect_pipeline_v2(df_train, df_val, df_test, vect_top_n, m, f'logistic_over_{n_words}_top_words_tfidf')\n",
    "\n",
    "```\n",
    "\n",
    "```\n",
    "Train accuracy: 0.870\n",
    "Val accuracy  : 0.795 (CV)\n",
    "Leaderboard   : 0.78976 (LB)\n",
    "```\n",
    "\n",
    "### CV\n",
    "\n",
    "```python\n",
    "n_words = 5000\n",
    "top_n_words = [w for w, c in V.most_common(n_words)]\n",
    "vect_top_n = CountVectorizer(vocabulary=top_n_words)\n",
    "m = LogisticRegression()\n",
    "m, df_feature_train = count_vect_pipeline_v2(df_train, df_val, df_test, vect_top_n, m, f'logistic_over_{n_words}_top_words')\n",
    "\n",
    "```\n",
    "\n",
    "```\n",
    "Train accuracy: 0.921\n",
    "Val accuracy  : 0.776\n",
    "Leaderboard   : 0.79190 (LB)\n",
    "```\n"
   ]
  },
  {
   "cell_type": "code",
   "execution_count": 1,
   "metadata": {},
   "outputs": [],
   "source": [
    "import numpy as np\n",
    "import pandas as pd\n",
    "from sklearn.metrics import accuracy_score\n",
    "from sklearn.model_selection import train_test_split\n",
    "from sklearn.feature_extraction.text import CountVectorizer\n",
    "from sklearn.feature_extraction.text import TfidfVectorizer\n",
    "from collections import Counter\n",
    "from nltk.corpus import stopwords\n",
    "\n",
    "def flatten(t):\n",
    "    return [item for sublist in t for item in sublist]\n",
    "\n",
    "def load_dfs(test_size=0.1, shuffle=False, verbose=True):\n",
    "    df = pd.read_csv(\"data/train.csv\")\n",
    "    df = df.drop(['keyword', 'location'], axis=1)\n",
    "    \n",
    "    df_test = pd.read_csv(\"data/test.csv\")\n",
    "    df_test = df_test.drop(['keyword', 'location'], axis=1)\n",
    "    \n",
    "    df_sub = pd.read_csv(\"data/sample_submission.csv\")\n",
    "    \n",
    "    df_train, df_val = train_test_split(df, test_size=test_size, shuffle=shuffle)\n",
    "\n",
    "    if verbose:\n",
    "        print(f\"train shape: {df_train.shape}\")\n",
    "        print(f\"val shape  : {df_val.shape}\")\n",
    "        print(f\"test shape : {df_test.shape}\")\n",
    "    return df_train, df_val, df_test, df_sub\n",
    "\n",
    "\n",
    "def get_vocab(df, drop_stopwords=True, keep_only_alpha=True):\n",
    "    l = flatten(df['text'].str.lower().str.split().tolist())\n",
    "    if drop_stopwords:\n",
    "        st = stopwords.words('english')\n",
    "        l = [w for w in l if w not in st and (not keep_only_alpha or w.isalpha())]\n",
    "    return Counter(l)"
   ]
  },
  {
   "cell_type": "code",
   "execution_count": 2,
   "metadata": {},
   "outputs": [
    {
     "name": "stdout",
     "output_type": "stream",
     "text": [
      "train shape: (6851, 3)\n",
      "val shape  : (762, 3)\n",
      "test shape : (3263, 2)\n"
     ]
    }
   ],
   "source": [
    "df_train, df_val, df_test, df_sub = load_dfs()"
   ]
  },
  {
   "cell_type": "code",
   "execution_count": 3,
   "metadata": {},
   "outputs": [],
   "source": [
    "from lightgbm import LGBMClassifier\n",
    "from xgboost import XGBClassifier\n",
    "from catboost import CatBoostClassifier\n",
    "from sklearn.ensemble import RandomForestClassifier\n",
    "\n",
    "\n",
    "from sklearn.linear_model import LogisticRegression\n",
    "from sklearn.naive_bayes import MultinomialNB\n",
    "from sklearn.ensemble import VotingClassifier\n",
    "from sklearn.svm import SVC\n",
    "from sklearn.pipeline import Pipeline\n",
    "import warnings; warnings.simplefilter('ignore')\n",
    "\n",
    "def run(model, df_train, df_val):\n",
    "    model.fit(df_train['text'], df_train['target'])\n",
    "    y_pred_train = model.predict(df_train['text'])\n",
    "    y_pred_val = model.predict(df_val['text'])\n",
    "    \n",
    "    train_acc = accuracy_score(df_train['target'], y_pred_train)\n",
    "    val_acc = accuracy_score(df_val['target'], y_pred_val)\n",
    "    return model, train_acc, val_acc\n",
    "\n",
    "\n",
    "def run_models(models, df_train, df_val):\n",
    "    res = []\n",
    "    trained_models = []\n",
    "    for name, model in models:\n",
    "        model, train_acc, val_acc = run(model, df_train, df_val)\n",
    "        res.append((name, train_acc, val_acc))\n",
    "        trained_models.append((name, model))\n",
    "\n",
    "    df_res = pd.DataFrame(res, columns=['model', 'train acc', 'val acc']).sort_values(\"val acc\", ascending=False)\n",
    "    display(df_res)\n",
    "    return df_res, trained_models"
   ]
  },
  {
   "cell_type": "code",
   "execution_count": 14,
   "metadata": {},
   "outputs": [
    {
     "data": {
      "text/html": [
       "<div>\n",
       "<style scoped>\n",
       "    .dataframe tbody tr th:only-of-type {\n",
       "        vertical-align: middle;\n",
       "    }\n",
       "\n",
       "    .dataframe tbody tr th {\n",
       "        vertical-align: top;\n",
       "    }\n",
       "\n",
       "    .dataframe thead th {\n",
       "        text-align: right;\n",
       "    }\n",
       "</style>\n",
       "<table border=\"1\" class=\"dataframe\">\n",
       "  <thead>\n",
       "    <tr style=\"text-align: right;\">\n",
       "      <th></th>\n",
       "      <th>model</th>\n",
       "      <th>train acc</th>\n",
       "      <th>val acc</th>\n",
       "    </tr>\n",
       "  </thead>\n",
       "  <tbody>\n",
       "    <tr>\n",
       "      <th>3</th>\n",
       "      <td>lr-idf-1000</td>\n",
       "      <td>0.834185</td>\n",
       "      <td>0.804462</td>\n",
       "    </tr>\n",
       "    <tr>\n",
       "      <th>1</th>\n",
       "      <td>naive-bayes-2</td>\n",
       "      <td>0.838856</td>\n",
       "      <td>0.795276</td>\n",
       "    </tr>\n",
       "    <tr>\n",
       "      <th>4</th>\n",
       "      <td>lr-id-2000</td>\n",
       "      <td>0.853598</td>\n",
       "      <td>0.795276</td>\n",
       "    </tr>\n",
       "    <tr>\n",
       "      <th>5</th>\n",
       "      <td>svm</td>\n",
       "      <td>0.905269</td>\n",
       "      <td>0.786089</td>\n",
       "    </tr>\n",
       "    <tr>\n",
       "      <th>2</th>\n",
       "      <td>lr-1000</td>\n",
       "      <td>0.849803</td>\n",
       "      <td>0.784777</td>\n",
       "    </tr>\n",
       "    <tr>\n",
       "      <th>0</th>\n",
       "      <td>naive-bayes</td>\n",
       "      <td>0.800905</td>\n",
       "      <td>0.782152</td>\n",
       "    </tr>\n",
       "  </tbody>\n",
       "</table>\n",
       "</div>"
      ],
      "text/plain": [
       "           model  train acc   val acc\n",
       "3    lr-idf-1000   0.834185  0.804462\n",
       "1  naive-bayes-2   0.838856  0.795276\n",
       "4     lr-id-2000   0.853598  0.795276\n",
       "5            svm   0.905269  0.786089\n",
       "2        lr-1000   0.849803  0.784777\n",
       "0    naive-bayes   0.800905  0.782152"
      ]
     },
     "metadata": {},
     "output_type": "display_data"
    }
   ],
   "source": [
    "models = [\n",
    "    ('naive-bayes', Pipeline([('vect', CountVectorizer(max_features=1000)), ('model', MultinomialNB())])),\n",
    "    ('naive-bayes-2', Pipeline([('vect', CountVectorizer(max_features=3000)), ('model', MultinomialNB())])),\n",
    "    ('lr-1000', Pipeline([('vect', CountVectorizer(max_features=1000)), ('model', LogisticRegression(max_iter=200))])),\n",
    "    ('lr-idf-1000', Pipeline([('vect', TfidfVectorizer(max_features=1000)), ('model', LogisticRegression(max_iter=200))])),\n",
    "    ('lr-id-2000', Pipeline([('vect', TfidfVectorizer(max_features=2000)), ('model', LogisticRegression(max_iter=200))])),\n",
    "    ('svm', Pipeline([('vect', CountVectorizer(max_features=1000)), ('model', SVC( probability=True))])),\n",
    "    ]\n",
    "df_res, trained_models = run_models(models, df_train, df_val)"
   ]
  },
  {
   "cell_type": "markdown",
   "metadata": {},
   "source": [
    "# Manual average"
   ]
  },
  {
   "cell_type": "code",
   "execution_count": 15,
   "metadata": {},
   "outputs": [],
   "source": [
    "# Simple average\n",
    "y_proba_disaster = np.zeros(len(df_val))\n",
    "for name, model in trained_models:\n",
    "    one_proba = model.predict_proba(df_val['text'])[:, 1]\n",
    "    y_proba_disaster += one_proba\n",
    "\n",
    "y_proba_disaster /= len(trained_models)"
   ]
  },
  {
   "cell_type": "code",
   "execution_count": 16,
   "metadata": {},
   "outputs": [
    {
     "data": {
      "text/plain": [
       "0.8083989501312336"
      ]
     },
     "execution_count": 16,
     "metadata": {},
     "output_type": "execute_result"
    }
   ],
   "source": [
    "y_pred_avg = (y_proba_disaster > 0.5).astype(int)\n",
    "accuracy_score(df_val['target'], y_pred_avg)"
   ]
  },
  {
   "cell_type": "markdown",
   "metadata": {},
   "source": [
    "# Hard and soft voting"
   ]
  },
  {
   "cell_type": "code",
   "execution_count": 18,
   "metadata": {},
   "outputs": [
    {
     "data": {
      "text/html": [
       "<div>\n",
       "<style scoped>\n",
       "    .dataframe tbody tr th:only-of-type {\n",
       "        vertical-align: middle;\n",
       "    }\n",
       "\n",
       "    .dataframe tbody tr th {\n",
       "        vertical-align: top;\n",
       "    }\n",
       "\n",
       "    .dataframe thead th {\n",
       "        text-align: right;\n",
       "    }\n",
       "</style>\n",
       "<table border=\"1\" class=\"dataframe\">\n",
       "  <thead>\n",
       "    <tr style=\"text-align: right;\">\n",
       "      <th></th>\n",
       "      <th>model</th>\n",
       "      <th>train acc</th>\n",
       "      <th>val acc</th>\n",
       "    </tr>\n",
       "  </thead>\n",
       "  <tbody>\n",
       "    <tr>\n",
       "      <th>1</th>\n",
       "      <td>soft</td>\n",
       "      <td>0.850387</td>\n",
       "      <td>0.808399</td>\n",
       "    </tr>\n",
       "    <tr>\n",
       "      <th>0</th>\n",
       "      <td>hard</td>\n",
       "      <td>0.853160</td>\n",
       "      <td>0.805774</td>\n",
       "    </tr>\n",
       "  </tbody>\n",
       "</table>\n",
       "</div>"
      ],
      "text/plain": [
       "  model  train acc   val acc\n",
       "1  soft   0.850387  0.808399\n",
       "0  hard   0.853160  0.805774"
      ]
     },
     "metadata": {},
     "output_type": "display_data"
    }
   ],
   "source": [
    "ensembles = [('hard', VotingClassifier(models)), \n",
    "             ('soft', VotingClassifier(models, voting='soft'))\n",
    "            ]\n",
    "run_models(ensembles, df_train, df_val);"
   ]
  },
  {
   "cell_type": "markdown",
   "metadata": {},
   "source": [
    "# Weighted average"
   ]
  },
  {
   "cell_type": "code",
   "execution_count": 21,
   "metadata": {},
   "outputs": [
    {
     "data": {
      "text/plain": [
       "0.8123359580052494"
      ]
     },
     "execution_count": 21,
     "metadata": {},
     "output_type": "execute_result"
    }
   ],
   "source": [
    "# Simple average\n",
    "y_proba_disaster = np.zeros(len(df_val))\n",
    "weights = [1, 2, 1, 2, 1, 2]\n",
    "\n",
    "for i, (name, model) in enumerate(trained_models):\n",
    "    one_proba = model.predict_proba(df_val['text'])[:, 1]\n",
    "    y_proba_disaster += weights[i] * one_proba\n",
    "\n",
    "y_proba_disaster /= np.sum(weights)\n",
    "y_pred_avg = (y_proba_disaster > 0.5).astype(int)\n",
    "accuracy_score(df_val['target'], y_pred_avg)"
   ]
  },
  {
   "cell_type": "code",
   "execution_count": 22,
   "metadata": {},
   "outputs": [
    {
     "data": {
      "text/html": [
       "<div>\n",
       "<style scoped>\n",
       "    .dataframe tbody tr th:only-of-type {\n",
       "        vertical-align: middle;\n",
       "    }\n",
       "\n",
       "    .dataframe tbody tr th {\n",
       "        vertical-align: top;\n",
       "    }\n",
       "\n",
       "    .dataframe thead th {\n",
       "        text-align: right;\n",
       "    }\n",
       "</style>\n",
       "<table border=\"1\" class=\"dataframe\">\n",
       "  <thead>\n",
       "    <tr style=\"text-align: right;\">\n",
       "      <th></th>\n",
       "      <th>model</th>\n",
       "      <th>train acc</th>\n",
       "      <th>val acc</th>\n",
       "    </tr>\n",
       "  </thead>\n",
       "  <tbody>\n",
       "    <tr>\n",
       "      <th>0</th>\n",
       "      <td>soft</td>\n",
       "      <td>0.85462</td>\n",
       "      <td>0.812336</td>\n",
       "    </tr>\n",
       "  </tbody>\n",
       "</table>\n",
       "</div>"
      ],
      "text/plain": [
       "  model  train acc   val acc\n",
       "0  soft    0.85462  0.812336"
      ]
     },
     "metadata": {},
     "output_type": "display_data"
    }
   ],
   "source": [
    "run_models([('soft', VotingClassifier(models, voting='soft', weights=weights))], df_train, df_val);"
   ]
  },
  {
   "cell_type": "markdown",
   "metadata": {},
   "source": [
    "# Manual search of best validation score"
   ]
  },
  {
   "cell_type": "code",
   "execution_count": 25,
   "metadata": {},
   "outputs": [
    {
     "data": {
      "text/html": [
       "<div>\n",
       "<style scoped>\n",
       "    .dataframe tbody tr th:only-of-type {\n",
       "        vertical-align: middle;\n",
       "    }\n",
       "\n",
       "    .dataframe tbody tr th {\n",
       "        vertical-align: top;\n",
       "    }\n",
       "\n",
       "    .dataframe thead th {\n",
       "        text-align: right;\n",
       "    }\n",
       "</style>\n",
       "<table border=\"1\" class=\"dataframe\">\n",
       "  <thead>\n",
       "    <tr style=\"text-align: right;\">\n",
       "      <th></th>\n",
       "      <th>model</th>\n",
       "      <th>train acc</th>\n",
       "      <th>val acc</th>\n",
       "    </tr>\n",
       "  </thead>\n",
       "  <tbody>\n",
       "    <tr>\n",
       "      <th>0</th>\n",
       "      <td>w1</td>\n",
       "      <td>0.875347</td>\n",
       "      <td>0.820210</td>\n",
       "    </tr>\n",
       "    <tr>\n",
       "      <th>2</th>\n",
       "      <td>w3</td>\n",
       "      <td>0.869946</td>\n",
       "      <td>0.818898</td>\n",
       "    </tr>\n",
       "    <tr>\n",
       "      <th>1</th>\n",
       "      <td>w2</td>\n",
       "      <td>0.875931</td>\n",
       "      <td>0.817585</td>\n",
       "    </tr>\n",
       "  </tbody>\n",
       "</table>\n",
       "</div>"
      ],
      "text/plain": [
       "  model  train acc   val acc\n",
       "0    w1   0.875347  0.820210\n",
       "2    w3   0.869946  0.818898\n",
       "1    w2   0.875931  0.817585"
      ]
     },
     "metadata": {},
     "output_type": "display_data"
    }
   ],
   "source": [
    "models2 = [\n",
    "    ('nb', Pipeline([('vect', CountVectorizer(max_features=1000)), ('model', MultinomialNB())])),\n",
    "    ('nb2', Pipeline([('vect', CountVectorizer(max_features=3000)), ('model', MultinomialNB())])),\n",
    "    ('nb3', Pipeline([('vect', TfidfVectorizer(max_features=3000)), ('model', MultinomialNB())])),\n",
    "    ('svm', Pipeline([('vect', CountVectorizer(max_features=1000)), ('model', SVC( probability=True))])),\n",
    "    ('svm-2', Pipeline([('vect', CountVectorizer(max_features=1500)), ('model', SVC( probability=True))])),\n",
    "    ('lr-1000', Pipeline([('vect', CountVectorizer(max_features=1000)), ('model', LogisticRegression(max_iter=200))])),\n",
    "    ('lr-3000', Pipeline([('vect', CountVectorizer(max_features=3000)), ('model', LogisticRegression(max_iter=200))])),\n",
    "    ('lr-idf-1000', Pipeline([('vect', TfidfVectorizer(max_features=1000)), ('model', LogisticRegression(max_iter=200))])),\n",
    "    ('lr-id-2000', Pipeline([('vect', TfidfVectorizer(max_features=2000)), ('model', LogisticRegression(max_iter=200))])),\n",
    "    ('catb', Pipeline([('vect', TfidfVectorizer(max_features=1000)), ('model', CatBoostClassifier(verbose=0))])),\n",
    "    ]\n",
    "\n",
    "\n",
    "ensembles = [ \n",
    "             ('w1', VotingClassifier(models2, voting='soft',\n",
    "                                      weights=[1, 1, 1, 1, 2, 1, 1, 1, 1, 1])),\n",
    "             ('w2', VotingClassifier(models2, voting='soft',\n",
    "                                      weights=[1, 1, 1, 1, 2, 2, 1, 1, 1, 1])),\n",
    "             ('w3', VotingClassifier(models2, voting='soft',\n",
    "                                      weights=[1, 1.5, 1, 1, 1.5, 1.5, 1, 1, 1, 1]))\n",
    "    \n",
    "            ]\n",
    "res, trained_models = run_models(ensembles, df_train, df_val);"
   ]
  },
  {
   "cell_type": "markdown",
   "metadata": {},
   "source": [
    "# Submission"
   ]
  },
  {
   "cell_type": "code",
   "execution_count": 26,
   "metadata": {},
   "outputs": [
    {
     "data": {
      "text/html": [
       "<div>\n",
       "<style scoped>\n",
       "    .dataframe tbody tr th:only-of-type {\n",
       "        vertical-align: middle;\n",
       "    }\n",
       "\n",
       "    .dataframe tbody tr th {\n",
       "        vertical-align: top;\n",
       "    }\n",
       "\n",
       "    .dataframe thead th {\n",
       "        text-align: right;\n",
       "    }\n",
       "</style>\n",
       "<table border=\"1\" class=\"dataframe\">\n",
       "  <thead>\n",
       "    <tr style=\"text-align: right;\">\n",
       "      <th></th>\n",
       "      <th>id</th>\n",
       "      <th>text</th>\n",
       "      <th>target</th>\n",
       "    </tr>\n",
       "  </thead>\n",
       "  <tbody>\n",
       "    <tr>\n",
       "      <th>0</th>\n",
       "      <td>0</td>\n",
       "      <td>Just happened a terrible car crash</td>\n",
       "      <td>1</td>\n",
       "    </tr>\n",
       "    <tr>\n",
       "      <th>1</th>\n",
       "      <td>2</td>\n",
       "      <td>Heard about #earthquake is different cities, s...</td>\n",
       "      <td>1</td>\n",
       "    </tr>\n",
       "    <tr>\n",
       "      <th>2</th>\n",
       "      <td>3</td>\n",
       "      <td>there is a forest fire at spot pond, geese are...</td>\n",
       "      <td>1</td>\n",
       "    </tr>\n",
       "    <tr>\n",
       "      <th>3</th>\n",
       "      <td>9</td>\n",
       "      <td>Apocalypse lighting. #Spokane #wildfires</td>\n",
       "      <td>0</td>\n",
       "    </tr>\n",
       "    <tr>\n",
       "      <th>4</th>\n",
       "      <td>11</td>\n",
       "      <td>Typhoon Soudelor kills 28 in China and Taiwan</td>\n",
       "      <td>1</td>\n",
       "    </tr>\n",
       "  </tbody>\n",
       "</table>\n",
       "</div>"
      ],
      "text/plain": [
       "   id                                               text  target\n",
       "0   0                 Just happened a terrible car crash       1\n",
       "1   2  Heard about #earthquake is different cities, s...       1\n",
       "2   3  there is a forest fire at spot pond, geese are...       1\n",
       "3   9           Apocalypse lighting. #Spokane #wildfires       0\n",
       "4  11      Typhoon Soudelor kills 28 in China and Taiwan       1"
      ]
     },
     "execution_count": 26,
     "metadata": {},
     "output_type": "execute_result"
    }
   ],
   "source": [
    "final_model = trained_models[0][1]\n",
    "y_pred_test = final_model.predict(df_test['text'])\n",
    "df_test['target'] = y_pred_test\n",
    "df_test[['id', 'target']].to_csv(f\"ensemble.csv\", index=False)\n",
    "df_test.head()"
   ]
  },
  {
   "cell_type": "code",
   "execution_count": null,
   "metadata": {},
   "outputs": [],
   "source": []
  }
 ],
 "metadata": {
  "kernelspec": {
   "display_name": "Python 3",
   "language": "python",
   "name": "python3"
  },
  "language_info": {
   "codemirror_mode": {
    "name": "ipython",
    "version": 3
   },
   "file_extension": ".py",
   "mimetype": "text/x-python",
   "name": "python",
   "nbconvert_exporter": "python",
   "pygments_lexer": "ipython3",
   "version": "3.7.6"
  }
 },
 "nbformat": 4,
 "nbformat_minor": 4
}
